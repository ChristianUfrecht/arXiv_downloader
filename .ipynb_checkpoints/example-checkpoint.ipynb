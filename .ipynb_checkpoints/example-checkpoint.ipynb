{
 "cells": [
  {
   "cell_type": "code",
   "execution_count": 2,
   "id": "520deba3",
   "metadata": {},
   "outputs": [],
   "source": [
    "from ArXivDownloader import ArXivDowloader\n",
    "\n",
    "url='https://arxiv.org/list/quant-ph/new'  # arXiv url to search for keywords\n",
    "keywords=['BEC', 'computation']            # keywords\n",
    "\n",
    "Downloader=ArXivDowloader(url, keywords)   # initialize downloader object\n",
    "\n",
    "Downloader.download()                      # download corresponding articles with at least one of the keywords in \n",
    "                                           # Title, abstract or authors\n",
    "\n"
   ]
  }
 ],
 "metadata": {
  "kernelspec": {
   "display_name": "Python 3",
   "language": "python",
   "name": "python3"
  },
  "language_info": {
   "codemirror_mode": {
    "name": "ipython",
    "version": 3
   },
   "file_extension": ".py",
   "mimetype": "text/x-python",
   "name": "python",
   "nbconvert_exporter": "python",
   "pygments_lexer": "ipython3",
   "version": "3.8.8"
  }
 },
 "nbformat": 4,
 "nbformat_minor": 5
}
